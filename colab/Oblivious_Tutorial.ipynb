{
  "nbformat": 4,
  "nbformat_minor": 0,
  "metadata": {
    "colab": {
      "name": "Oblivious Tutorial",
      "provenance": [],
      "collapsed_sections": [],
      "include_colab_link": true
    },
    "kernelspec": {
      "name": "python3",
      "display_name": "Python 3"
    },
    "language_info": {
      "name": "python"
    }
  },
  "cells": [
    {
      "cell_type": "markdown",
      "metadata": {
        "id": "view-in-github",
        "colab_type": "text"
      },
      "source": [
        "<a href=\"https://colab.research.google.com/github/ObliviousAI/FastAPI-Enclave-Services/blob/master/colab/Oblivious_Tutorial.ipynb\" target=\"_parent\"><img src=\"https://colab.research.google.com/assets/colab-badge.svg\" alt=\"Open In Colab\"/></a>"
      ]
    },
    {
      "cell_type": "markdown",
      "source": [
        "<figure>\n",
        "  <IMG SRC=\"https://oblv.io/round-icon\" WIDTH=80 ALIGN=\"right\">\n",
        "</figure>\n",
        "\n",
        "# Interacting with your enclave\n",
        "\n",
        "[![](https://img.shields.io/badge/-OBLV:_Made%20for%20Enclaves-93228f?style=for-the-badge&logo=data%3Aimage%2Fpng%3Bbase64%2CiVBORw0KGgoAAAANSUhEUgAAACAAAAAgCAQAAADZc7J%2FAAAABGdBTUEAALGPC%2FxhBQAAACBjSFJNAAB6JgAAgIQAAPoAAACA6AAAdTAAAOpgAAA6mAAAF3CculE8AAAAAmJLR0QA%2F4ePzL8AAAAJcEhZcwAADsMAAA7DAcdvqGQAAAAHdElNRQfmBRQLNCJ5TUB1AAACu0lEQVRIx42VTWhdVRDHf7mxJe%2BlTWqVSlKJbZCGIib1iSGLbCq4aKkQlJagATdulFKEQMStduHGEHCRViW6EVwJQhBCqaYgih8YkxQhUluhxGIDMU2TmPhe%2BnNx7n339eV9OHcxd2bO%2F3%2FnnJkzt4EKYiunOE43h9gHrPAHs3zNZMMq9cWjfuyGlWTDCbtqg7OOmbeW5B01Uw3e7g%2F%2BH5mxoxI855%2Fpmiu%2BYa8PibjfPof9xntpeNFcOfzRFP65T0qF55iTKcVtj5TCM34f%2FHc8LeIuB%2FzAb73mb172XZ%2BOSV72bkJx1WxKMBZ8S%2FaIeMrfd2x8Oo4943LiOp8WLq%2B6aZ%2BII6W7LZEtXxGx363gWLc9EHwS7GERB2sc%2F7ZnRHwrcVwEbAlts%2BADYrN%2F1azgigfEXV5Lctgb8TwZgPcoAEMcqNlqrbwG5BkNZpaT%2BJHqv%2B4XcapuF03HvRE37MWIHoCfWQYgRz1pBWCZmWD2RBwCuApAEw%2FXJViI9a9BHY5oAbgNwO66cPgw1rfihKKg7wHwD9aBX%2BBy%2FFaIdcQqwIMA5FmqAZb3OVu04s3eibgBkNyM%2Barwm5zgHNtF%2B2hQ1yNmAfpoAuBSFfg0TzFVYmfoDS9z%2BFIoaGjSxyxUqP2PZsqu9lASOoMtrqv%2BZCTiZxUIesvgkTNJK%2B8BnAjWqyJ2uFIG39gxWl5PQuPhdLtCX655TMSBsm0UbL4Pngsp65ptSYFGg%2BeWT4j4Yjp3Ss4nPN3pfX07rXBTMtL%2B9gURO%2F3UzSLBcBE%2B6GrinC8ZaeBBF5PIF%2FHwarbf0z5nZzH1%2B4bq4%2BV9lnMpjX%2FniP0%2BYqONttnvm0mKCbzStfWI83XHgercjq8XKbKeT464iqz5TtVfW0zS7oUqJOuOFwtXlIaKJHs5ybP00EkrsMINfuErvmxY27n2P7cF8FI7UOqVAAAAJXRFWHRkYXRlOmNyZWF0ZQAyMDIyLTA1LTIwVDExOjUyOjM0KzAwOjAwh4HVcwAAACV0RVh0ZGF0ZTptb2RpZnkAMjAyMi0wNS0yMFQxMTo1MjozNCswMDowMPbcbc8AAAAZdEVYdFNvZnR3YXJlAHd3dy5pbmtzY2FwZS5vcmeb7jwaAAAAV3pUWHRSYXcgcHJvZmlsZSB0eXBlIGlwdGMAAHic4%2FIMCHFWKCjKT8vMSeVSAAMjCy5jCxMjE0uTFAMTIESANMNkAyOzVCDL2NTIxMzEHMQHy4BIoEouAOoXEXTyQjWVAAAAAElFTkSuQmCC)](https://oblivious.ai)\n",
        "\n",
        "Congratulations for making it this far in the tutorial 🚀\n",
        "\n",
        "At this stage you will have:\n",
        "- configured your oblivious account to deploy to your private AWS account\n",
        "- created (or rather inspected) the example FastAPI server that will run in the OBLV enclave\n",
        "- configured the repository to run as an *Oblivious Service*\n",
        "- deployed the service as an enclave running in production mode\n",
        "\n",
        "With all this set, we are ready to connect to the enclave and interact with its various routes.\n",
        "\n",
        "<a name=\"help\"/>\n",
        "\n",
        "### Don't get stuck - ask for help! ✋\n",
        "\n",
        "<sup><sub>Need some help? Reach us at:</sub></sup> </br>\n",
        "[![Slack](https://img.shields.io/badge/Slack-4A154B?style=for-the-badge&logo=slack&logoColor=white)](https://oblivious-community.slack.com)"
      ],
      "metadata": {
        "id": "RoMbxr5vCWJX"
      }
    },
    {
      "cell_type": "markdown",
      "source": [
        "## 1. Install the OBLV proxy tool in colab ⚙️\n",
        "\n",
        "Install the CLI from the Oblivious docs pages [here](https://docs.oblivious.ai/cli/binaries) using the below script:"
      ],
      "metadata": {
        "id": "-lDKAPYoKuxc"
      }
    },
    {
      "cell_type": "code",
      "execution_count": null,
      "metadata": {
        "id": "w82M8TlSCQe6"
      },
      "outputs": [],
      "source": [
        "%%bash\n",
        "# downlaod the OBLV CLI package for Linux \n",
        "wget https://oblv-cli-binary.s3.us-east-2.amazonaws.com/0.3.0/oblv-ccli-0.3.0-x86_64-unknown-linux-musl.zip\n",
        "# unzip it\n",
        "unzip oblv-ccli-0.3.0-x86_64-unknown-linux-musl.zip\n",
        "# cd to the folder where binary is present\n",
        "cd oblv-ccli-0.3.0-x86_64-unknown-linux-musl/\n",
        "# update execute permissions for the binary\n",
        "chmod +x $(pwd)/oblv\n",
        "# create symlink\n",
        "sudo ln -s $(pwd)/oblv /usr/local/bin/oblv"
      ]
    },
    {
      "cell_type": "markdown",
      "source": [
        "## 2. Create keys & connect OBLV proxy to enclave 📞\n",
        "\n",
        "The first part of this step is to simply create a public private key pair. You can do this in a simgle line like this:"
      ],
      "metadata": {
        "id": "WeWlp2ZwNT4p"
      }
    },
    {
      "cell_type": "code",
      "source": [
        "# generate a RSA private/public key pair with the key name \"alice\"\n",
        "# and in an existing output directory /content\n",
        "!oblv keygen --key-name alice --output /content"
      ],
      "metadata": {
        "id": "g6BmTE3KGb7E"
      },
      "execution_count": null,
      "outputs": []
    },
    {
      "cell_type": "code",
      "source": [
        "# generate a RSA private/public key pair with the key name \"bob\"\n",
        "# and in an existing output directory /content\n",
        "!oblv keygen --key-name bob --output /content"
      ],
      "metadata": {
        "id": "nAo5xuNTc2L_"
      },
      "execution_count": null,
      "outputs": []
    },
    {
      "cell_type": "markdown",
      "source": [
        "Next you can use the above base64 string of the public key to be added to the enclave as you deploy it. It usually takes a number of minutes to deploy an enclave with AWS which can be a bit painful. This is one of the reasons we run your applications in an internal service manager so the stability of your application is minimally effected if your service were to go down.\n",
        "\n",
        "Once up, connect the proxy to the enclave:"
      ],
      "metadata": {
        "id": "vRrznAeSGcUe"
      }
    },
    {
      "cell_type": "code",
      "source": [
        "%%script bash --bg\n",
        "# This runs the OBLV enclave proxy for you on http://localhost:3030. \n",
        "# You sending requests to this address will get encrypted sent to the enclave.\n",
        "#   - The PCR codes are what gaurentee what is running inside the enclave\n",
        "#   - If you were to fork https://github.com/ObliviousAI/enterprise_client_tutorial\n",
        "#     and deploy it to an enclave through oblivious.ai, you'll get the exact same\n",
        "#     pcr codes\n",
        "#   - The signatures that gaurentee this are from the underlying infrastructure \n",
        "#     (in our case AWS Nitro Enclaves) \n",
        "oblv connect \\\n",
        "--pcr0 974c96249ef7a787321e9076bb67b243f1e490395db723b33403cea850eda3644c30fb24674ddfb403c1736cf581da9e \\\n",
        "--pcr1 bcdf05fefccaa8e55bf2c8d6dee9e79bbff31e34bf28a99aa19e6b29c37ee80b214a414b7607236edf26fcb78654e63f \\\n",
        "--pcr2 e633e30498425285a10aa614446222e16ef678964fdff9f4463125faf9758bc7bb3cd8d2f5aed032ce53d8eb22248395 \\\n",
        "--private-key \"/content/alice_private.der\" \\\n",
        "--public-key \"/content/alice_public.der\" \\\n",
        "--url https://conso-appli-1wf9ynwatmfna-1442640806.enclave.oblivious.ai \\\n",
        "--port 443 --lport 3030"
      ],
      "metadata": {
        "id": "RAGMg5OTOzd_"
      },
      "execution_count": null,
      "outputs": []
    },
    {
      "cell_type": "code",
      "source": [
        "%%script bash --bg\n",
        "# This runs the OBLV enclave proxy for you on http://localhost:3030. \n",
        "# You sending requests to this address will get encrypted sent to the enclave.\n",
        "#   - The PCR codes are what gaurentee what is running inside the enclave\n",
        "#   - If you were to fork https://github.com/ObliviousAI/enterprise_client_tutorial\n",
        "#     and deploy it to an enclave through oblivious.ai, you'll get the exact same\n",
        "#     pcr codes\n",
        "#   - The signatures that gaurentee this are from the underlying infrastructure \n",
        "#     (in our case AWS Nitro Enclaves) \n",
        "oblv connect \\\n",
        "--pcr0 974c96249ef7a787321e9076bb67b243f1e490395db723b33403cea850eda3644c30fb24674ddfb403c1736cf581da9e \\\n",
        "--pcr1 bcdf05fefccaa8e55bf2c8d6dee9e79bbff31e34bf28a99aa19e6b29c37ee80b214a414b7607236edf26fcb78654e63f \\\n",
        "--pcr2 e633e30498425285a10aa614446222e16ef678964fdff9f4463125faf9758bc7bb3cd8d2f5aed032ce53d8eb22248395 \\\n",
        "--private-key \"/content/bob_private.der\" \\\n",
        "--public-key \"/content/bob_public.der\" \\\n",
        "--url https://conso-appli-1wf9ynwatmfna-1442640806.enclave.oblivious.ai \\\n",
        "--port 443 --lport 3031"
      ],
      "metadata": {
        "id": "TvCZMqawVpFM"
      },
      "execution_count": null,
      "outputs": []
    },
    {
      "cell_type": "markdown",
      "source": [
        "## 3. Interact with basic API calls 🗣️\n",
        "\n",
        "Now we are all connected, let's start trying out the API handles of the enclave service.\n"
      ],
      "metadata": {
        "id": "ybh5wEfBRCZ5"
      }
    },
    {
      "cell_type": "code",
      "source": [
        "import requests\n",
        "import json\n",
        "\n",
        "ALICE_PROXY = \"http://localhost:3030/\"\n",
        "BOB_PROXY = \"http://localhost:3031/\""
      ],
      "metadata": {
        "id": "5ukXk-kNCkCf"
      },
      "execution_count": null,
      "outputs": []
    },
    {
      "cell_type": "markdown",
      "source": [
        "#### Hello World with user name / role\n",
        "\n",
        "Let's start by calling the hello world example. This should return a string with the client's user name and role:"
      ],
      "metadata": {
        "id": "SMG_kNA5DDFQ"
      }
    },
    {
      "cell_type": "code",
      "source": [
        "response = requests.get(ALICE_PROXY+\"hello\")\n",
        "\n",
        "print(response.content.decode('utf-8'))"
      ],
      "metadata": {
        "id": "7tU5DsynCptA"
      },
      "execution_count": null,
      "outputs": []
    },
    {
      "cell_type": "code",
      "source": [
        ""
      ],
      "metadata": {
        "id": "W4XCMaNaWob-"
      },
      "execution_count": null,
      "outputs": []
    },
    {
      "cell_type": "markdown",
      "source": [
        "#### Example outbound calls with allowlisted FQDNs\n",
        "\n",
        "Next, let's check out the permitted outbound calls the enclave can make. We will try one that is acceptable and one that is now and print out their status codes:"
      ],
      "metadata": {
        "id": "RlWevoJSDRW6"
      }
    },
    {
      "cell_type": "code",
      "source": [
        "# example.com is in the allow list and any path is still part of the FQDN\n",
        "response = requests.post(\n",
        "    ALICE_PROXY+\"outbound/\",\n",
        "    json={\n",
        "            \"url\": \"https://example.com\"\n",
        "        }\n",
        ")\n",
        "\n",
        "print(\"https://example.com -> status_code:\", response.content.decode('utf-8'))\n",
        "\n",
        "# example with paths and params\n",
        "response = requests.post(\n",
        "    ALICE_PROXY+\"outbound/\",\n",
        "    json={\n",
        "            \"url\": \"https://example.com/test?testing=True\"\n",
        "        }\n",
        ")\n",
        "\n",
        "print(\"https://example.com/test?testing=True -> status_code:\", response.content.decode('utf-8'))\n",
        "\n",
        "# google.com is not in the allow list and will fail\n",
        "response = requests.post(\n",
        "    ALICE_PROXY+\"outbound/\",\n",
        "    json={\n",
        "            \"url\": \"https://google.com\"\n",
        "        }\n",
        ")\n",
        "print(\"https://google.com -> status_code:\", response.content.decode('utf-8'))"
      ],
      "metadata": {
        "id": "VA1ZzfgbX2rr"
      },
      "execution_count": null,
      "outputs": []
    },
    {
      "cell_type": "markdown",
      "source": [
        "#### Fetch runtime arguments (typically used for configuration)\n",
        "\n",
        "We can also see how runtime arguments can be added to the enclave service and fetched through the application to change the behaviour through different configurations:"
      ],
      "metadata": {
        "id": "14weUVMbEask"
      }
    },
    {
      "cell_type": "code",
      "source": [
        "response = requests.get(\n",
        "        ALICE_PROXY+'config/'\n",
        "    )\n",
        "\n",
        "result = json.loads(response.content)\n",
        "\n",
        "print(result)"
      ],
      "metadata": {
        "id": "tnxrZBpzEp74"
      },
      "execution_count": null,
      "outputs": []
    },
    {
      "cell_type": "markdown",
      "source": [
        "#### Yao's Millionaires' Problem\n",
        "\n",
        "Now that we've got the basics down, let's do some classic MPC. We'll use our two proxy connections to act as Alice and Bob and compare our wealth with the Yao's Millionaire server:"
      ],
      "metadata": {
        "id": "H4VKdpSYdIQl"
      }
    },
    {
      "cell_type": "code",
      "source": [
        "response = requests.get(\n",
        "        ALICE_PROXY+'yao/submit_value',\n",
        "        params: {\"value\": 5}\n",
        "    )\n",
        "\n",
        "response = requests.get(\n",
        "        BOB_PROXY+'yao/submit_value',\n",
        "        params: {\"value\": 10}\n",
        "    )\n",
        "\n",
        "response = requests.get(\n",
        "        ALICE_PROXY+'yao/compare'\n",
        "    )\n",
        "\n",
        "result = json.loads(response.content)\n",
        "\n",
        "print(result)"
      ],
      "metadata": {
        "id": "qMfKBfbhdgSF"
      },
      "execution_count": null,
      "outputs": []
    },
    {
      "cell_type": "markdown",
      "source": [
        "#### Private Set Intersection Cardinality\n",
        "\n",
        "Now let's extend the premise of Yao's millionaires' problem to the scenario where by two parties want to know how many shared values they have in their respective lists. This is know as private set intersection cardinality (i.e. the set of values are kept private, but the cardinality of their intersection is revieled). We can imagine a scenario where by two companies want to know how many shared customers they have without revieling who their customers actually are. The enclave will broker this trust relationship:"
      ],
      "metadata": {
        "id": "YqnSibYDeq6Z"
      }
    },
    {
      "cell_type": "code",
      "source": [
        "alices_values = \"\"\"amy\n",
        "bob\n",
        "charlie\n",
        "david\n",
        "emily\n",
        "fiona\n",
        "gerry\n",
        "harry\n",
        "\"\"\"\n",
        "\n",
        "bobs_values = \"\"\"bob\n",
        "david\n",
        "fiona\n",
        "harry\n",
        "joanna\n",
        "liam\n",
        "niamh\n",
        "\"\"\"\n",
        "\n",
        "alice_file = {'upload_file.csv': alices_values}\n",
        "response = requests.get(\n",
        "        ALICE_PROXY+'psi/submit_list',\n",
        "        files=alice_file\n",
        ")\n",
        "\n",
        "bob_file = {'upload_file.csv': bobs_values}\n",
        "response = requests.get(\n",
        "        BOB_PROXY+'psi/submit_list',\n",
        "        files=bob_file\n",
        "    )\n",
        "\n",
        "response = requests.get(\n",
        "        ALICE_PROXY+'yao/compare'\n",
        "    )\n",
        "\n",
        "result = json.loads(response.content)\n",
        "\n",
        "print(result)"
      ],
      "metadata": {
        "id": "QOgB6HqVfc01"
      },
      "execution_count": null,
      "outputs": []
    }
  ]
}